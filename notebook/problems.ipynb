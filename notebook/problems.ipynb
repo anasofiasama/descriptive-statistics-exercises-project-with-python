{
 "cells": [
  {
   "cell_type": "markdown",
   "id": "ac622319",
   "metadata": {},
   "source": [
    "# Descriptive Statistics Problems"
   ]
  },
  {
   "cell_type": "markdown",
   "id": "aa8993e4",
   "metadata": {},
   "source": [
    "### Exercise 1"
   ]
  },
  {
   "cell_type": "markdown",
   "id": "5e0ab0d5",
   "metadata": {},
   "source": [
    "As right now, you are familliar with numpy, we are going to use numpy to get some data statistics.\n",
    "\n",
    "First, lets create an array of 20 elements distributed normally (Gaussian):\n",
    "\n",
    "Use the np.random.normal function to create some data, using 0,1,20 as parameters because we want a one dimentional array of 20 numbers distributed normally (Gaussian)"
   ]
  },
  {
   "cell_type": "code",
   "execution_count": 33,
   "id": "34720ab6",
   "metadata": {},
   "outputs": [
    {
     "name": "stdout",
     "output_type": "stream",
     "text": [
      "Data from a normal distribution\n",
      "\n",
      "[-1.0856306   0.99734545  0.2829785  -1.50629471 -0.57860025  1.65143654\n",
      " -2.42667924 -0.42891263  1.26593626 -0.8667404  -0.67888615 -0.09470897\n",
      "  1.49138963 -0.638902   -0.44398196 -0.43435128  2.20593008  2.18678609\n",
      "  1.0040539   0.3861864 ]\n"
     ]
    }
   ],
   "source": [
    "#import libraries\n",
    "import numpy as np\n",
    "import pandas as pd\n",
    "\n",
    "# Set seed in order to get similar results\n",
    "np.random.seed(123)\n",
    "\n",
    "# create the data\n",
    "norm=np.random.normal(0,1,20)\n",
    "\n",
    "#print results\n",
    "print('Data from a normal distribution')\n",
    "print('')\n",
    "print(norm)"
   ]
  },
  {
   "cell_type": "code",
   "execution_count": 19,
   "id": "49c55822",
   "metadata": {},
   "outputs": [
    {
     "name": "stdout",
     "output_type": "stream",
     "text": [
      "Mean : 0.11\n"
     ]
    }
   ],
   "source": [
    "#Use numpy to get the mean of your data\n",
    "print('Mean :',round(norm.mean(),2))"
   ]
  },
  {
   "cell_type": "code",
   "execution_count": 22,
   "id": "03529459",
   "metadata": {},
   "outputs": [
    {
     "name": "stdout",
     "output_type": "stream",
     "text": [
      "Variance : 1.58\n",
      "Variance from the std : 1.58\n"
     ]
    }
   ],
   "source": [
    "#get the variance of your data\n",
    "print('Variance :',round(norm.var(ddof=1),2))\n",
    "# otra manera de hacerlo\n",
    "print('Variance from the std :',round(norm.std(ddof=1)**2,2)) # ddof=1 because it's the muestral std"
   ]
  },
  {
   "cell_type": "code",
   "execution_count": 24,
   "id": "e53f30c5",
   "metadata": {},
   "outputs": [
    {
     "name": "stdout",
     "output_type": "stream",
     "text": [
      "Standard deviation : 1.26\n"
     ]
    }
   ],
   "source": [
    "# Standard deviation\n",
    "print('Standard deviation :',round(norm.std(ddof=1),2)) # ddof=1 because it's the muestral std"
   ]
  },
  {
   "cell_type": "code",
   "execution_count": 27,
   "id": "9bce852f",
   "metadata": {},
   "outputs": [
    {
     "name": "stdout",
     "output_type": "stream",
     "text": [
      "Mode : ModeResult(mode=array([-2.42667924]), count=array([1]))\n"
     ]
    }
   ],
   "source": [
    "#import libraries and print the mode\n",
    "from scipy import stats as st\n",
    "\n",
    "# Mode for continuous array\n",
    "print('Mode :',st.mode(norm)) # Como todos los valores son unicos, devuelve el valor menor"
   ]
  },
  {
   "cell_type": "code",
   "execution_count": 37,
   "id": "c682cb6e",
   "metadata": {},
   "outputs": [
    {
     "name": "stdout",
     "output_type": "stream",
     "text": [
      "Median with middle value: -0.26\n",
      "Median with low value: -0.43\n",
      "Median with high value: -0.09\n"
     ]
    }
   ],
   "source": [
    "# Median\n",
    "#!pip install statistics\n",
    "import statistics\n",
    "\n",
    "#print(np.sort(norm))\n",
    "print('Median with middle value:',round(np.median(norm),2)) \n",
    "print('Median with low value:',round(statistics.median_low(norm),2)) \n",
    "print('Median with high value:',round(statistics.median_high(norm),2))\n",
    "# Es menor que la media, por lo que se puede intuir que existe una cola hacia la derecha."
   ]
  },
  {
   "cell_type": "code",
   "execution_count": 45,
   "id": "39c3fabd",
   "metadata": {},
   "outputs": [
    {
     "name": "stdout",
     "output_type": "stream",
     "text": [
      "1st,2nd and 3er quantile with middle value: [-0.64889804 -0.2618108   1.06952449]\n",
      "1st,2nd and 3er quantile with lower: [-0.67888615 -0.42891263  1.0040539 ]\n",
      "1st,2nd and 3er quantile with higher: [-0.638902   -0.09470897  1.26593626]\n"
     ]
    }
   ],
   "source": [
    "# Print the Quantiles\n",
    "print('1st,2nd and 3er quantile with middle value:',np.quantile(norm,[0.25,0.5,0.75]))\n",
    "print('1st,2nd and 3er quantile with lower:',np.quantile(norm,[0.25,0.5,0.75], method='lower'))\n",
    "print('1st,2nd and 3er quantile with higher:',np.quantile(norm,[0.25,0.5,0.75], method='higher'))\n",
    "\n",
    "# This match with np.median, why?\n",
    "# El segundo cuartil indica el valor que acumula el 50% de la muestra, por lo que es exactamente lo mismo que la mediana."
   ]
  },
  {
   "cell_type": "markdown",
   "id": "46c70c3d",
   "metadata": {},
   "source": [
    "### Exercise 2\n",
    "\n",
    "Write a Python program to calculate the standard deviation of the following data:\n",
    "```py\n",
    "data = [4, 2, 5, 8, 6]\n",
    "```"
   ]
  },
  {
   "cell_type": "code",
   "execution_count": 47,
   "id": "d590308e",
   "metadata": {},
   "outputs": [
    {
     "name": "stdout",
     "output_type": "stream",
     "text": [
      "Data:\n",
      "[4, 2, 5, 8, 6]\n",
      "\n",
      "Standard deviation of the data: 2.24\n"
     ]
    }
   ],
   "source": [
    "#!pip install math\n",
    "#!pip install sys\n",
    "import math\n",
    "import sys\n",
    "\n",
    "# Define the average function\n",
    "\n",
    "def avg_calc(data):\n",
    "    result=sum(data)/len(data)\n",
    "    return result\n",
    "    \n",
    "\n",
    "# Define the standard deviation function\n",
    "\n",
    "def sd_calc(data):\n",
    "    result= math.sqrt(sum([(i-avg_calc(data))**2 for i in list(data)])/(len(data)-1))\n",
    "    return result    \n",
    "\n",
    "#print the data\n",
    "\n",
    "#data = np.array([4, 2, 5, 8, 6]) # numpy array\n",
    "data = [4, 2, 5, 8, 6] # list\n",
    "\n",
    "print('Data:')\n",
    "print(data)\n",
    "print('')\n",
    "#print the standard deviation of the data\n",
    "\n",
    "print('Standard deviation of the data:',round(sd_calc(data),2))"
   ]
  },
  {
   "cell_type": "markdown",
   "id": "04b71791",
   "metadata": {},
   "source": [
    "Source:\n",
    "\n",
    "https://www.w3resource.com/"
   ]
  }
 ],
 "metadata": {
  "interpreter": {
   "hash": "9248718ffe6ce6938b217e69dbcc175ea21f4c6b28a317e96c05334edae734bb"
  },
  "kernelspec": {
   "display_name": "Python 3",
   "language": "python",
   "name": "python3"
  },
  "language_info": {
   "codemirror_mode": {
    "name": "ipython",
    "version": 3
   },
   "file_extension": ".py",
   "mimetype": "text/x-python",
   "name": "python",
   "nbconvert_exporter": "python",
   "pygments_lexer": "ipython3",
   "version": "3.8.5"
  }
 },
 "nbformat": 4,
 "nbformat_minor": 5
}
